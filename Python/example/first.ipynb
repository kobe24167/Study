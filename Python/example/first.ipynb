{
 "cells": [
  {
   "cell_type": "code",
   "execution_count": 1,
   "metadata": {},
   "outputs": [
    {
     "name": "stdout",
     "output_type": "stream",
     "text": [
      "Hello world\n"
     ]
    }
   ],
   "source": [
    "print('Hello world')"
   ]
  },
  {
   "cell_type": "code",
   "execution_count": 3,
   "metadata": {},
   "outputs": [
    {
     "name": "stdout",
     "output_type": "stream",
     "text": [
      "已删除！\n"
     ]
    }
   ],
   "source": [
    "import os, sys\n",
    "\n",
    "filePath='D:\\\\opt\\\\新建文件夹\\\\20191104\\\\git - 副本 (3).txt'\n",
    "if os.path.exists(filePath):\n",
    "    os.remove(filePath)\n",
    "    print(\"已删除！\")\n",
    "else:\n",
    "    print(\"要删除的文件不存在！\")"
   ]
  },
  {
   "cell_type": "code",
   "execution_count": 29,
   "metadata": {},
   "outputs": [
    {
     "name": "stdout",
     "output_type": "stream",
     "text": [
      "时间       =07:40              #       =车费       =101.00       #       =车型       =普通中级             \n",
      "['时间       =07:40              ', '       =车费       =101.00       ', '       =车型       =普通中级             ']\n",
      "时间       =07:40              \n",
      "       =车费       =101.00       \n",
      "       =车型       =普通中级             \n",
      "{'时间': '07:40', '车费': '101.00', '车型': '普通中级'}\n"
     ]
    }
   ],
   "source": [
    "data = '''<tbody>\n",
    "       <tr class=\"am-active\">\n",
    "       <td width=\"20%\"><b>时间</b></td>\n",
    "       <td>07:40</td>\n",
    "       </tr>\n",
    "       <tr>\n",
    "       <td><b>车费</b></td>\n",
    "       <td>101.00</td>\n",
    "       </tr><tr>\n",
    "       <td><b>车型</b></td>\n",
    "       <td>普通中级</td>\n",
    "       </tr>\n",
    "       </tbody>\n",
    "'''\n",
    "data = data.replace('<b>','').replace('</b>','').replace('<td>','=').replace('</td>','').replace('<tr>','#').replace('</tr>','').replace('<tbody>','').replace('</tbody>','').replace('\\n','').replace('','')\n",
    "data = data[data.index(\"时间\"):-1]\n",
    "print(data)\n",
    "aa = data.split(\"#\")\n",
    "print(aa)\n",
    "dict = {}\n",
    "for a in aa:\n",
    "    print(a)\n",
    "    a = a.strip()\n",
    "    if a.index(\"=\") == 0 :\n",
    "        a = a[1:]\n",
    "    dict.setdefault(a[:a.index('=')].strip(), a[a.index('=')+1:].strip())\n",
    "print(dict)"
   ]
  },
  {
   "cell_type": "code",
   "execution_count": null,
   "metadata": {},
   "outputs": [],
   "source": []
  }
 ],
 "metadata": {
  "kernelspec": {
   "display_name": "Python 3",
   "language": "python",
   "name": "python3"
  },
  "language_info": {
   "codemirror_mode": {
    "name": "ipython",
    "version": 3
   },
   "file_extension": ".py",
   "mimetype": "text/x-python",
   "name": "python",
   "nbconvert_exporter": "python",
   "pygments_lexer": "ipython3",
   "version": "3.7.5"
  }
 },
 "nbformat": 4,
 "nbformat_minor": 2
}
